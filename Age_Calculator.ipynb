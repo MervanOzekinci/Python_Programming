{
  "nbformat": 4,
  "nbformat_minor": 0,
  "metadata": {
    "colab": {
      "provenance": []
    },
    "kernelspec": {
      "name": "python3",
      "display_name": "Python 3"
    },
    "language_info": {
      "name": "python"
    }
  },
  "cells": [
    {
      "cell_type": "code",
      "execution_count": 15,
      "metadata": {
        "colab": {
          "base_uri": "https://localhost:8080/"
        },
        "id": "0epTwDXQ7nWR",
        "outputId": "a9c5e18d-e852-4cf2-c07d-7e606a578f79"
      },
      "outputs": [
        {
          "output_type": "stream",
          "name": "stdout",
          "text": [
            "49\n"
          ]
        }
      ],
      "source": [
        "def age_calc(year,month,day):\n",
        "  import datetime\n",
        "  today = datetime.datetime.now().date()\n",
        "  day=datetime.date(year,month,day)\n",
        "  age=int((today-day).days/365.0)\n",
        "  \n",
        "  print(age)\n",
        "\n",
        "age_calc(1972,12,27)"
      ]
    }
  ]
}