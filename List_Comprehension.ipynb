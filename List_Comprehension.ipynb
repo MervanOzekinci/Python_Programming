{
  "nbformat": 4,
  "nbformat_minor": 0,
  "metadata": {
    "colab": {
      "provenance": [],
      "collapsed_sections": []
    },
    "kernelspec": {
      "name": "python3",
      "display_name": "Python 3"
    },
    "language_info": {
      "name": "python"
    },
    "accelerator": "GPU",
    "gpuClass": "standard"
  },
  "cells": [
    {
      "cell_type": "markdown",
      "source": [
        "# List Comprehension"
      ],
      "metadata": {
        "id": "rfLV05ItFZqc"
      }
    },
    {
      "cell_type": "code",
      "execution_count": null,
      "metadata": {
        "id": "lEfYdyK2_z8_"
      },
      "outputs": [],
      "source": [
        "\n",
        "salaries =[10,20,30,40,50]"
      ]
    },
    {
      "cell_type": "code",
      "source": [
        "#comprehension kullanmadan fonksiyon ile isleimin yapilmasi\n",
        "def new_salary(x):\n",
        "  return x*20/100+x\n",
        "  \n",
        "for salary in salaries:\n",
        "  print(new_salary(salary))"
      ],
      "metadata": {
        "colab": {
          "base_uri": "https://localhost:8080/"
        },
        "id": "x4sHzomg_3MI",
        "outputId": "dade5b54-23b2-41e8-ea7d-7f30b5935c9a"
      },
      "execution_count": null,
      "outputs": [
        {
          "output_type": "stream",
          "name": "stdout",
          "text": [
            "12.0\n",
            "24.0\n",
            "36.0\n",
            "48.0\n",
            "60.0\n"
          ]
        }
      ]
    },
    {
      "cell_type": "code",
      "source": [
        "null_list=[]\n",
        "def new_salary(x):\n",
        "  return x*20/100+x\n",
        "  \n",
        "for salary in salaries:\n",
        "  null_list.append(new_salary(salary))\n",
        "\n"
      ],
      "metadata": {
        "id": "yk-pYHJC_3PB"
      },
      "execution_count": null,
      "outputs": []
    },
    {
      "cell_type": "code",
      "source": [
        "null_list1 =[]\n",
        "for salary in salaries:\n",
        "  if salary >30:\n",
        "    null_list1.append(new_salary(salary))\n",
        "  else:\n",
        "    null_list1.append(new_salary(salary*2))"
      ],
      "metadata": {
        "id": "HSoF4T1g_3R5"
      },
      "execution_count": null,
      "outputs": []
    },
    {
      "cell_type": "code",
      "source": [
        "null_list1"
      ],
      "metadata": {
        "colab": {
          "base_uri": "https://localhost:8080/"
        },
        "id": "nAAPvgNv_3U1",
        "outputId": "59e029c0-f333-41c2-8f88-27a958ef918f"
      },
      "execution_count": null,
      "outputs": [
        {
          "output_type": "execute_result",
          "data": {
            "text/plain": [
              "[24.0, 48.0, 72.0, 48.0, 60.0]"
            ]
          },
          "metadata": {},
          "execution_count": 30
        }
      ]
    },
    {
      "cell_type": "code",
      "source": [
        "#comprehension ile\n",
        "[new_salary(salary*2) if salary<30 else new_salary(salary) for salary in salaries]"
      ],
      "metadata": {
        "colab": {
          "base_uri": "https://localhost:8080/"
        },
        "id": "feDh7v1e_3Xq",
        "outputId": "85023777-fa8a-457b-c40d-fdcb61f8bff7"
      },
      "execution_count": null,
      "outputs": [
        {
          "output_type": "execute_result",
          "data": {
            "text/plain": [
              "[24.0, 48.0, 36.0, 48.0, 60.0]"
            ]
          },
          "metadata": {},
          "execution_count": 31
        }
      ]
    },
    {
      "cell_type": "code",
      "source": [
        "[salary*2 for salary in salaries]"
      ],
      "metadata": {
        "colab": {
          "base_uri": "https://localhost:8080/"
        },
        "id": "LpZgdZ-h_3a1",
        "outputId": "5b0b5070-91f9-47bb-b481-ff743c7f8def"
      },
      "execution_count": null,
      "outputs": [
        {
          "output_type": "execute_result",
          "data": {
            "text/plain": [
              "[20, 40, 60, 80, 100]"
            ]
          },
          "metadata": {},
          "execution_count": 32
        }
      ]
    },
    {
      "cell_type": "code",
      "source": [
        "[salary*2 for salary in salaries if salary<30]\n",
        "#sayet sadece if kullanilacaksa en sagda if olur"
      ],
      "metadata": {
        "colab": {
          "base_uri": "https://localhost:8080/"
        },
        "id": "rC3dRh_S_3e_",
        "outputId": "73c3ea89-c135-4c5a-d4ba-e90c54a9e6f6"
      },
      "execution_count": null,
      "outputs": [
        {
          "output_type": "execute_result",
          "data": {
            "text/plain": [
              "[20, 40]"
            ]
          },
          "metadata": {},
          "execution_count": 33
        }
      ]
    },
    {
      "cell_type": "code",
      "source": [
        "[salary*2 if salary<30 else salary*0 for salary in salaries]\n",
        "#eger ki if-else kullanilacaksa bu durumda for en sagda yazilir"
      ],
      "metadata": {
        "colab": {
          "base_uri": "https://localhost:8080/"
        },
        "id": "pNyJG8nNB7jV",
        "outputId": "e7a02a99-d883-4c61-c7b7-afc201a14726"
      },
      "execution_count": null,
      "outputs": [
        {
          "output_type": "execute_result",
          "data": {
            "text/plain": [
              "[20, 40, 0, 0, 0]"
            ]
          },
          "metadata": {},
          "execution_count": 34
        }
      ]
    },
    {
      "cell_type": "code",
      "source": [
        "students =[\"John\",\"Mark\",\"Vanessa\",\"Mariam\"]\n",
        "students_no =[\"John\",\"nessa\"]"
      ],
      "metadata": {
        "id": "202XHeVLCxBs"
      },
      "execution_count": null,
      "outputs": []
    },
    {
      "cell_type": "code",
      "source": [
        "[student.lower() if student in students_no else student.upper() for student in students]"
      ],
      "metadata": {
        "colab": {
          "base_uri": "https://localhost:8080/"
        },
        "id": "SuuJFoaqCxEc",
        "outputId": "d3578294-f00e-4a91-a48c-87df43b80459"
      },
      "execution_count": null,
      "outputs": [
        {
          "output_type": "execute_result",
          "data": {
            "text/plain": [
              "['john', 'MARK', 'VANESSA', 'MARIAM']"
            ]
          },
          "metadata": {},
          "execution_count": 42
        }
      ]
    },
    {
      "cell_type": "code",
      "source": [
        "[student.upper() if student not in students_no else student.lower() for student in students]"
      ],
      "metadata": {
        "colab": {
          "base_uri": "https://localhost:8080/"
        },
        "id": "iiumHRXMCxHb",
        "outputId": "b08f9424-0541-4b44-ec94-e1c1a7c29412"
      },
      "execution_count": null,
      "outputs": [
        {
          "output_type": "execute_result",
          "data": {
            "text/plain": [
              "['john', 'MARK', 'VANESSA', 'MARIAM']"
            ]
          },
          "metadata": {},
          "execution_count": 46
        }
      ]
    },
    {
      "cell_type": "markdown",
      "source": [
        "#Dict Comprehension"
      ],
      "metadata": {
        "id": "QtaxL1e4CxKi"
      }
    },
    {
      "cell_type": "code",
      "source": [
        "dictionary ={\"a\":1,\n",
        "             \"b\":2,\n",
        "             \"c\":3,\n",
        "             \"d\":4\n",
        "             }"
      ],
      "metadata": {
        "id": "2v970TjSFd8d"
      },
      "execution_count": null,
      "outputs": []
    },
    {
      "cell_type": "code",
      "source": [
        "print(dictionary.keys(),\n",
        "dictionary.values(),\n",
        "dictionary.items())"
      ],
      "metadata": {
        "colab": {
          "base_uri": "https://localhost:8080/"
        },
        "id": "hSEaF6k1FxN-",
        "outputId": "779a0687-91d5-4e73-e975-b04a8f3484e2"
      },
      "execution_count": null,
      "outputs": [
        {
          "output_type": "stream",
          "name": "stdout",
          "text": [
            "dict_keys(['a', 'b', 'c', 'd']) dict_values([1, 2, 3, 4]) dict_items([('a', 1), ('b', 2), ('c', 3), ('d', 4)])\n"
          ]
        }
      ]
    },
    {
      "cell_type": "code",
      "source": [
        "{i for i in dictionary}"
      ],
      "metadata": {
        "colab": {
          "base_uri": "https://localhost:8080/"
        },
        "id": "SXFQpFL1FeIk",
        "outputId": "a2c7123d-b7b5-4632-a6aa-92184b1d1c23"
      },
      "execution_count": null,
      "outputs": [
        {
          "output_type": "execute_result",
          "data": {
            "text/plain": [
              "{'a', 'b', 'c', 'd'}"
            ]
          },
          "metadata": {},
          "execution_count": 48
        }
      ]
    },
    {
      "cell_type": "code",
      "source": [
        "{k: v**2 for (k,v) in dictionary.items()}#keyler sabit,value degerlerini karesini al"
      ],
      "metadata": {
        "colab": {
          "base_uri": "https://localhost:8080/"
        },
        "id": "IP-CmNTyFeLo",
        "outputId": "c21333ec-60bf-4542-f735-5da2bbc4091d"
      },
      "execution_count": null,
      "outputs": [
        {
          "output_type": "execute_result",
          "data": {
            "text/plain": [
              "{'a': 1, 'b': 4, 'c': 9, 'd': 16}"
            ]
          },
          "metadata": {},
          "execution_count": 55
        }
      ]
    },
    {
      "cell_type": "code",
      "source": [
        "{k.upper() for (k,v) in dictionary.items()}"
      ],
      "metadata": {
        "colab": {
          "base_uri": "https://localhost:8080/"
        },
        "id": "jv1tWMfRFeOg",
        "outputId": "57e95faf-ee72-4bfa-a204-411d38104b03"
      },
      "execution_count": null,
      "outputs": [
        {
          "output_type": "execute_result",
          "data": {
            "text/plain": [
              "{'A', 'B', 'C', 'D'}"
            ]
          },
          "metadata": {},
          "execution_count": 58
        }
      ]
    },
    {
      "cell_type": "code",
      "source": [
        "{k.upper():v*2 for (k,v) in dictionary.items()}#keysleri büyüt,degerleri iki ile carp"
      ],
      "metadata": {
        "colab": {
          "base_uri": "https://localhost:8080/"
        },
        "id": "VWCpHIY_FeRI",
        "outputId": "b85a270c-3557-4468-a958-d63457fcfddc"
      },
      "execution_count": null,
      "outputs": [
        {
          "output_type": "execute_result",
          "data": {
            "text/plain": [
              "{'A': 2, 'B': 4, 'C': 6, 'D': 8}"
            ]
          },
          "metadata": {},
          "execution_count": 61
        }
      ]
    },
    {
      "cell_type": "markdown",
      "source": [
        "#Mülakat Sorusu"
      ],
      "metadata": {
        "id": "Bh17uvSMFeVq"
      }
    },
    {
      "cell_type": "markdown",
      "source": [
        "* #Cift sayilarin karesi alinarak bir sözlüge eklenmek isteniyor"
      ],
      "metadata": {
        "id": "LNqwKsnIFeZX"
      }
    },
    {
      "cell_type": "code",
      "source": [
        "numbers=range(10)\n",
        "new_dict={}\n",
        "\n",
        "for i in numbers:\n",
        "  if i%2==0:\n",
        "    new_dict[i]=i**2\n",
        "new_dict\n",
        "\n"
      ],
      "metadata": {
        "colab": {
          "base_uri": "https://localhost:8080/"
        },
        "id": "2c52iireFedt",
        "outputId": "986592eb-7f45-45e1-9619-aa4d878795c6"
      },
      "execution_count": null,
      "outputs": [
        {
          "output_type": "execute_result",
          "data": {
            "text/plain": [
              "{0: 0, 2: 4, 4: 16, 6: 36, 8: 64}"
            ]
          },
          "metadata": {},
          "execution_count": 66
        }
      ]
    },
    {
      "cell_type": "code",
      "source": [
        "#simdi mülakat sorusunu dict comprehension ile yapalim\n",
        "{n:n**2 for n in numbers if n%2==0}"
      ],
      "metadata": {
        "colab": {
          "base_uri": "https://localhost:8080/"
        },
        "id": "dk2BtRqyHRx6",
        "outputId": "36cfa96a-25e9-44c6-cee8-6264503bb1f7"
      },
      "execution_count": null,
      "outputs": [
        {
          "output_type": "execute_result",
          "data": {
            "text/plain": [
              "{0: 0, 2: 4, 4: 16, 6: 36, 8: 64}"
            ]
          },
          "metadata": {},
          "execution_count": 72
        }
      ]
    },
    {
      "cell_type": "markdown",
      "source": [
        "#List&Comprehension Uygulamalar"
      ],
      "metadata": {
        "id": "c3ygMLojJGwR"
      }
    },
    {
      "cell_type": "markdown",
      "source": [
        "## Bir Veri Setindeki Degisken Isimlerini Degistirmek"
      ],
      "metadata": {
        "id": "TZQ-Gy5kJM5q"
      }
    },
    {
      "cell_type": "markdown",
      "source": [
        "** ## before:\n",
        "* # ['total', 'speeding', 'alcohol', 'not_distracted', 'no_previous', 'ins_premium', 'ins_losses', 'abbrev']\n",
        "\n",
        "* # after:\n",
        "* # ['TOTAL', 'SPEEDING', 'ALCOHOL', 'NOT_DISTRACTED', 'NO_PREVIOUS', 'INS_PREMIUM', 'INS_LOSSES', 'ABBREV']\n"
      ],
      "metadata": {
        "id": "RRIyNKOMJM8F"
      }
    },
    {
      "cell_type": "code",
      "source": [
        "import seaborn as sns\n",
        "df=sns.load_dataset(\"car_crashes\")\n",
        "df.columns"
      ],
      "metadata": {
        "colab": {
          "base_uri": "https://localhost:8080/"
        },
        "id": "vueantIdJM_I",
        "outputId": "d7662a5f-7e41-4c9f-fe31-930a7d2dadb9"
      },
      "execution_count": null,
      "outputs": [
        {
          "output_type": "execute_result",
          "data": {
            "text/plain": [
              "Index(['total', 'speeding', 'alcohol', 'not_distracted', 'no_previous',\n",
              "       'ins_premium', 'ins_losses', 'abbrev'],\n",
              "      dtype='object')"
            ]
          },
          "metadata": {},
          "execution_count": 73
        }
      ]
    },
    {
      "cell_type": "code",
      "source": [
        "#normale dongü ile\n",
        "for col in df.columns:\n",
        "  print(col.upper())"
      ],
      "metadata": {
        "colab": {
          "base_uri": "https://localhost:8080/"
        },
        "id": "YeuaZcW4JNB8",
        "outputId": "e87a0a1f-1fc4-4430-832b-619b5547c704"
      },
      "execution_count": null,
      "outputs": [
        {
          "output_type": "stream",
          "name": "stdout",
          "text": [
            "TOTAL\n",
            "SPEEDING\n",
            "ALCOHOL\n",
            "NOT_DISTRACTED\n",
            "NO_PREVIOUS\n",
            "INS_PREMIUM\n",
            "INS_LOSSES\n",
            "ABBREV\n"
          ]
        }
      ]
    },
    {
      "cell_type": "code",
      "source": [
        "#normale dongü ile\n",
        "a=[]\n",
        "for col in df.columns:\n",
        " a.append (col.upper())\n",
        "a\n",
        "\n",
        "df.columns =a\n",
        "df"
      ],
      "metadata": {
        "colab": {
          "base_uri": "https://localhost:8080/",
          "height": 1000
        },
        "id": "yTz9ohkNJNEc",
        "outputId": "afa58d2b-125c-44d4-fbc8-0f2a1840e489"
      },
      "execution_count": null,
      "outputs": [
        {
          "output_type": "execute_result",
          "data": {
            "text/plain": [
              "    TOTAL  SPEEDING  ALCOHOL  NOT_DISTRACTED  NO_PREVIOUS  INS_PREMIUM  \\\n",
              "0    18.8     7.332    5.640          18.048       15.040       784.55   \n",
              "1    18.1     7.421    4.525          16.290       17.014      1053.48   \n",
              "2    18.6     6.510    5.208          15.624       17.856       899.47   \n",
              "3    22.4     4.032    5.824          21.056       21.280       827.34   \n",
              "4    12.0     4.200    3.360          10.920       10.680       878.41   \n",
              "5    13.6     5.032    3.808          10.744       12.920       835.50   \n",
              "6    10.8     4.968    3.888           9.396        8.856      1068.73   \n",
              "7    16.2     6.156    4.860          14.094       16.038      1137.87   \n",
              "8     5.9     2.006    1.593           5.900        5.900      1273.89   \n",
              "9    17.9     3.759    5.191          16.468       16.826      1160.13   \n",
              "10   15.6     2.964    3.900          14.820       14.508       913.15   \n",
              "11   17.5     9.450    7.175          14.350       15.225       861.18   \n",
              "12   15.3     5.508    4.437          13.005       14.994       641.96   \n",
              "13   12.8     4.608    4.352          12.032       12.288       803.11   \n",
              "14   14.5     3.625    4.205          13.775       13.775       710.46   \n",
              "15   15.7     2.669    3.925          15.229       13.659       649.06   \n",
              "16   17.8     4.806    4.272          13.706       15.130       780.45   \n",
              "17   21.4     4.066    4.922          16.692       16.264       872.51   \n",
              "18   20.5     7.175    6.765          14.965       20.090      1281.55   \n",
              "19   15.1     5.738    4.530          13.137       12.684       661.88   \n",
              "20   12.5     4.250    4.000           8.875       12.375      1048.78   \n",
              "21    8.2     1.886    2.870           7.134        6.560      1011.14   \n",
              "22   14.1     3.384    3.948          13.395       10.857      1110.61   \n",
              "23    9.6     2.208    2.784           8.448        8.448       777.18   \n",
              "24   17.6     2.640    5.456           1.760       17.600       896.07   \n",
              "25   16.1     6.923    5.474          14.812       13.524       790.32   \n",
              "26   21.4     8.346    9.416          17.976       18.190       816.21   \n",
              "27   14.9     1.937    5.215          13.857       13.410       732.28   \n",
              "28   14.7     5.439    4.704          13.965       14.553      1029.87   \n",
              "29   11.6     4.060    3.480          10.092        9.628       746.54   \n",
              "30   11.2     1.792    3.136           9.632        8.736      1301.52   \n",
              "31   18.4     3.496    4.968          12.328       18.032       869.85   \n",
              "32   12.3     3.936    3.567          10.824        9.840      1234.31   \n",
              "33   16.8     6.552    5.208          15.792       13.608       708.24   \n",
              "34   23.9     5.497   10.038          23.661       20.554       688.75   \n",
              "35   14.1     3.948    4.794          13.959       11.562       697.73   \n",
              "36   19.9     6.368    5.771          18.308       18.706       881.51   \n",
              "37   12.8     4.224    3.328           8.576       11.520       804.71   \n",
              "38   18.2     9.100    5.642          17.472       16.016       905.99   \n",
              "39   11.1     3.774    4.218          10.212        8.769      1148.99   \n",
              "40   23.9     9.082    9.799          22.944       19.359       858.97   \n",
              "41   19.4     6.014    6.402          19.012       16.684       669.31   \n",
              "42   19.5     4.095    5.655          15.990       15.795       767.91   \n",
              "43   19.4     7.760    7.372          17.654       16.878      1004.75   \n",
              "44   11.3     4.859    1.808           9.944       10.848       809.38   \n",
              "45   13.6     4.080    4.080          13.056       12.920       716.20   \n",
              "46   12.7     2.413    3.429          11.049       11.176       768.95   \n",
              "47   10.6     4.452    3.498           8.692        9.116       890.03   \n",
              "48   23.8     8.092    6.664          23.086       20.706       992.61   \n",
              "49   13.8     4.968    4.554           5.382       11.592       670.31   \n",
              "50   17.4     7.308    5.568          14.094       15.660       791.14   \n",
              "\n",
              "    INS_LOSSES ABBREV  \n",
              "0       145.08     AL  \n",
              "1       133.93     AK  \n",
              "2       110.35     AZ  \n",
              "3       142.39     AR  \n",
              "4       165.63     CA  \n",
              "5       139.91     CO  \n",
              "6       167.02     CT  \n",
              "7       151.48     DE  \n",
              "8       136.05     DC  \n",
              "9       144.18     FL  \n",
              "10      142.80     GA  \n",
              "11      120.92     HI  \n",
              "12       82.75     ID  \n",
              "13      139.15     IL  \n",
              "14      108.92     IN  \n",
              "15      114.47     IA  \n",
              "16      133.80     KS  \n",
              "17      137.13     KY  \n",
              "18      194.78     LA  \n",
              "19       96.57     ME  \n",
              "20      192.70     MD  \n",
              "21      135.63     MA  \n",
              "22      152.26     MI  \n",
              "23      133.35     MN  \n",
              "24      155.77     MS  \n",
              "25      144.45     MO  \n",
              "26       85.15     MT  \n",
              "27      114.82     NE  \n",
              "28      138.71     NV  \n",
              "29      120.21     NH  \n",
              "30      159.85     NJ  \n",
              "31      120.75     NM  \n",
              "32      150.01     NY  \n",
              "33      127.82     NC  \n",
              "34      109.72     ND  \n",
              "35      133.52     OH  \n",
              "36      178.86     OK  \n",
              "37      104.61     OR  \n",
              "38      153.86     PA  \n",
              "39      148.58     RI  \n",
              "40      116.29     SC  \n",
              "41       96.87     SD  \n",
              "42      155.57     TN  \n",
              "43      156.83     TX  \n",
              "44      109.48     UT  \n",
              "45      109.61     VT  \n",
              "46      153.72     VA  \n",
              "47      111.62     WA  \n",
              "48      152.56     WV  \n",
              "49      106.62     WI  \n",
              "50      122.04     WY  "
            ],
            "text/html": [
              "\n",
              "  <div id=\"df-6f5b80a3-6288-4154-bf7b-8105e9cbbd28\">\n",
              "    <div class=\"colab-df-container\">\n",
              "      <div>\n",
              "<style scoped>\n",
              "    .dataframe tbody tr th:only-of-type {\n",
              "        vertical-align: middle;\n",
              "    }\n",
              "\n",
              "    .dataframe tbody tr th {\n",
              "        vertical-align: top;\n",
              "    }\n",
              "\n",
              "    .dataframe thead th {\n",
              "        text-align: right;\n",
              "    }\n",
              "</style>\n",
              "<table border=\"1\" class=\"dataframe\">\n",
              "  <thead>\n",
              "    <tr style=\"text-align: right;\">\n",
              "      <th></th>\n",
              "      <th>TOTAL</th>\n",
              "      <th>SPEEDING</th>\n",
              "      <th>ALCOHOL</th>\n",
              "      <th>NOT_DISTRACTED</th>\n",
              "      <th>NO_PREVIOUS</th>\n",
              "      <th>INS_PREMIUM</th>\n",
              "      <th>INS_LOSSES</th>\n",
              "      <th>ABBREV</th>\n",
              "    </tr>\n",
              "  </thead>\n",
              "  <tbody>\n",
              "    <tr>\n",
              "      <th>0</th>\n",
              "      <td>18.8</td>\n",
              "      <td>7.332</td>\n",
              "      <td>5.640</td>\n",
              "      <td>18.048</td>\n",
              "      <td>15.040</td>\n",
              "      <td>784.55</td>\n",
              "      <td>145.08</td>\n",
              "      <td>AL</td>\n",
              "    </tr>\n",
              "    <tr>\n",
              "      <th>1</th>\n",
              "      <td>18.1</td>\n",
              "      <td>7.421</td>\n",
              "      <td>4.525</td>\n",
              "      <td>16.290</td>\n",
              "      <td>17.014</td>\n",
              "      <td>1053.48</td>\n",
              "      <td>133.93</td>\n",
              "      <td>AK</td>\n",
              "    </tr>\n",
              "    <tr>\n",
              "      <th>2</th>\n",
              "      <td>18.6</td>\n",
              "      <td>6.510</td>\n",
              "      <td>5.208</td>\n",
              "      <td>15.624</td>\n",
              "      <td>17.856</td>\n",
              "      <td>899.47</td>\n",
              "      <td>110.35</td>\n",
              "      <td>AZ</td>\n",
              "    </tr>\n",
              "    <tr>\n",
              "      <th>3</th>\n",
              "      <td>22.4</td>\n",
              "      <td>4.032</td>\n",
              "      <td>5.824</td>\n",
              "      <td>21.056</td>\n",
              "      <td>21.280</td>\n",
              "      <td>827.34</td>\n",
              "      <td>142.39</td>\n",
              "      <td>AR</td>\n",
              "    </tr>\n",
              "    <tr>\n",
              "      <th>4</th>\n",
              "      <td>12.0</td>\n",
              "      <td>4.200</td>\n",
              "      <td>3.360</td>\n",
              "      <td>10.920</td>\n",
              "      <td>10.680</td>\n",
              "      <td>878.41</td>\n",
              "      <td>165.63</td>\n",
              "      <td>CA</td>\n",
              "    </tr>\n",
              "    <tr>\n",
              "      <th>5</th>\n",
              "      <td>13.6</td>\n",
              "      <td>5.032</td>\n",
              "      <td>3.808</td>\n",
              "      <td>10.744</td>\n",
              "      <td>12.920</td>\n",
              "      <td>835.50</td>\n",
              "      <td>139.91</td>\n",
              "      <td>CO</td>\n",
              "    </tr>\n",
              "    <tr>\n",
              "      <th>6</th>\n",
              "      <td>10.8</td>\n",
              "      <td>4.968</td>\n",
              "      <td>3.888</td>\n",
              "      <td>9.396</td>\n",
              "      <td>8.856</td>\n",
              "      <td>1068.73</td>\n",
              "      <td>167.02</td>\n",
              "      <td>CT</td>\n",
              "    </tr>\n",
              "    <tr>\n",
              "      <th>7</th>\n",
              "      <td>16.2</td>\n",
              "      <td>6.156</td>\n",
              "      <td>4.860</td>\n",
              "      <td>14.094</td>\n",
              "      <td>16.038</td>\n",
              "      <td>1137.87</td>\n",
              "      <td>151.48</td>\n",
              "      <td>DE</td>\n",
              "    </tr>\n",
              "    <tr>\n",
              "      <th>8</th>\n",
              "      <td>5.9</td>\n",
              "      <td>2.006</td>\n",
              "      <td>1.593</td>\n",
              "      <td>5.900</td>\n",
              "      <td>5.900</td>\n",
              "      <td>1273.89</td>\n",
              "      <td>136.05</td>\n",
              "      <td>DC</td>\n",
              "    </tr>\n",
              "    <tr>\n",
              "      <th>9</th>\n",
              "      <td>17.9</td>\n",
              "      <td>3.759</td>\n",
              "      <td>5.191</td>\n",
              "      <td>16.468</td>\n",
              "      <td>16.826</td>\n",
              "      <td>1160.13</td>\n",
              "      <td>144.18</td>\n",
              "      <td>FL</td>\n",
              "    </tr>\n",
              "    <tr>\n",
              "      <th>10</th>\n",
              "      <td>15.6</td>\n",
              "      <td>2.964</td>\n",
              "      <td>3.900</td>\n",
              "      <td>14.820</td>\n",
              "      <td>14.508</td>\n",
              "      <td>913.15</td>\n",
              "      <td>142.80</td>\n",
              "      <td>GA</td>\n",
              "    </tr>\n",
              "    <tr>\n",
              "      <th>11</th>\n",
              "      <td>17.5</td>\n",
              "      <td>9.450</td>\n",
              "      <td>7.175</td>\n",
              "      <td>14.350</td>\n",
              "      <td>15.225</td>\n",
              "      <td>861.18</td>\n",
              "      <td>120.92</td>\n",
              "      <td>HI</td>\n",
              "    </tr>\n",
              "    <tr>\n",
              "      <th>12</th>\n",
              "      <td>15.3</td>\n",
              "      <td>5.508</td>\n",
              "      <td>4.437</td>\n",
              "      <td>13.005</td>\n",
              "      <td>14.994</td>\n",
              "      <td>641.96</td>\n",
              "      <td>82.75</td>\n",
              "      <td>ID</td>\n",
              "    </tr>\n",
              "    <tr>\n",
              "      <th>13</th>\n",
              "      <td>12.8</td>\n",
              "      <td>4.608</td>\n",
              "      <td>4.352</td>\n",
              "      <td>12.032</td>\n",
              "      <td>12.288</td>\n",
              "      <td>803.11</td>\n",
              "      <td>139.15</td>\n",
              "      <td>IL</td>\n",
              "    </tr>\n",
              "    <tr>\n",
              "      <th>14</th>\n",
              "      <td>14.5</td>\n",
              "      <td>3.625</td>\n",
              "      <td>4.205</td>\n",
              "      <td>13.775</td>\n",
              "      <td>13.775</td>\n",
              "      <td>710.46</td>\n",
              "      <td>108.92</td>\n",
              "      <td>IN</td>\n",
              "    </tr>\n",
              "    <tr>\n",
              "      <th>15</th>\n",
              "      <td>15.7</td>\n",
              "      <td>2.669</td>\n",
              "      <td>3.925</td>\n",
              "      <td>15.229</td>\n",
              "      <td>13.659</td>\n",
              "      <td>649.06</td>\n",
              "      <td>114.47</td>\n",
              "      <td>IA</td>\n",
              "    </tr>\n",
              "    <tr>\n",
              "      <th>16</th>\n",
              "      <td>17.8</td>\n",
              "      <td>4.806</td>\n",
              "      <td>4.272</td>\n",
              "      <td>13.706</td>\n",
              "      <td>15.130</td>\n",
              "      <td>780.45</td>\n",
              "      <td>133.80</td>\n",
              "      <td>KS</td>\n",
              "    </tr>\n",
              "    <tr>\n",
              "      <th>17</th>\n",
              "      <td>21.4</td>\n",
              "      <td>4.066</td>\n",
              "      <td>4.922</td>\n",
              "      <td>16.692</td>\n",
              "      <td>16.264</td>\n",
              "      <td>872.51</td>\n",
              "      <td>137.13</td>\n",
              "      <td>KY</td>\n",
              "    </tr>\n",
              "    <tr>\n",
              "      <th>18</th>\n",
              "      <td>20.5</td>\n",
              "      <td>7.175</td>\n",
              "      <td>6.765</td>\n",
              "      <td>14.965</td>\n",
              "      <td>20.090</td>\n",
              "      <td>1281.55</td>\n",
              "      <td>194.78</td>\n",
              "      <td>LA</td>\n",
              "    </tr>\n",
              "    <tr>\n",
              "      <th>19</th>\n",
              "      <td>15.1</td>\n",
              "      <td>5.738</td>\n",
              "      <td>4.530</td>\n",
              "      <td>13.137</td>\n",
              "      <td>12.684</td>\n",
              "      <td>661.88</td>\n",
              "      <td>96.57</td>\n",
              "      <td>ME</td>\n",
              "    </tr>\n",
              "    <tr>\n",
              "      <th>20</th>\n",
              "      <td>12.5</td>\n",
              "      <td>4.250</td>\n",
              "      <td>4.000</td>\n",
              "      <td>8.875</td>\n",
              "      <td>12.375</td>\n",
              "      <td>1048.78</td>\n",
              "      <td>192.70</td>\n",
              "      <td>MD</td>\n",
              "    </tr>\n",
              "    <tr>\n",
              "      <th>21</th>\n",
              "      <td>8.2</td>\n",
              "      <td>1.886</td>\n",
              "      <td>2.870</td>\n",
              "      <td>7.134</td>\n",
              "      <td>6.560</td>\n",
              "      <td>1011.14</td>\n",
              "      <td>135.63</td>\n",
              "      <td>MA</td>\n",
              "    </tr>\n",
              "    <tr>\n",
              "      <th>22</th>\n",
              "      <td>14.1</td>\n",
              "      <td>3.384</td>\n",
              "      <td>3.948</td>\n",
              "      <td>13.395</td>\n",
              "      <td>10.857</td>\n",
              "      <td>1110.61</td>\n",
              "      <td>152.26</td>\n",
              "      <td>MI</td>\n",
              "    </tr>\n",
              "    <tr>\n",
              "      <th>23</th>\n",
              "      <td>9.6</td>\n",
              "      <td>2.208</td>\n",
              "      <td>2.784</td>\n",
              "      <td>8.448</td>\n",
              "      <td>8.448</td>\n",
              "      <td>777.18</td>\n",
              "      <td>133.35</td>\n",
              "      <td>MN</td>\n",
              "    </tr>\n",
              "    <tr>\n",
              "      <th>24</th>\n",
              "      <td>17.6</td>\n",
              "      <td>2.640</td>\n",
              "      <td>5.456</td>\n",
              "      <td>1.760</td>\n",
              "      <td>17.600</td>\n",
              "      <td>896.07</td>\n",
              "      <td>155.77</td>\n",
              "      <td>MS</td>\n",
              "    </tr>\n",
              "    <tr>\n",
              "      <th>25</th>\n",
              "      <td>16.1</td>\n",
              "      <td>6.923</td>\n",
              "      <td>5.474</td>\n",
              "      <td>14.812</td>\n",
              "      <td>13.524</td>\n",
              "      <td>790.32</td>\n",
              "      <td>144.45</td>\n",
              "      <td>MO</td>\n",
              "    </tr>\n",
              "    <tr>\n",
              "      <th>26</th>\n",
              "      <td>21.4</td>\n",
              "      <td>8.346</td>\n",
              "      <td>9.416</td>\n",
              "      <td>17.976</td>\n",
              "      <td>18.190</td>\n",
              "      <td>816.21</td>\n",
              "      <td>85.15</td>\n",
              "      <td>MT</td>\n",
              "    </tr>\n",
              "    <tr>\n",
              "      <th>27</th>\n",
              "      <td>14.9</td>\n",
              "      <td>1.937</td>\n",
              "      <td>5.215</td>\n",
              "      <td>13.857</td>\n",
              "      <td>13.410</td>\n",
              "      <td>732.28</td>\n",
              "      <td>114.82</td>\n",
              "      <td>NE</td>\n",
              "    </tr>\n",
              "    <tr>\n",
              "      <th>28</th>\n",
              "      <td>14.7</td>\n",
              "      <td>5.439</td>\n",
              "      <td>4.704</td>\n",
              "      <td>13.965</td>\n",
              "      <td>14.553</td>\n",
              "      <td>1029.87</td>\n",
              "      <td>138.71</td>\n",
              "      <td>NV</td>\n",
              "    </tr>\n",
              "    <tr>\n",
              "      <th>29</th>\n",
              "      <td>11.6</td>\n",
              "      <td>4.060</td>\n",
              "      <td>3.480</td>\n",
              "      <td>10.092</td>\n",
              "      <td>9.628</td>\n",
              "      <td>746.54</td>\n",
              "      <td>120.21</td>\n",
              "      <td>NH</td>\n",
              "    </tr>\n",
              "    <tr>\n",
              "      <th>30</th>\n",
              "      <td>11.2</td>\n",
              "      <td>1.792</td>\n",
              "      <td>3.136</td>\n",
              "      <td>9.632</td>\n",
              "      <td>8.736</td>\n",
              "      <td>1301.52</td>\n",
              "      <td>159.85</td>\n",
              "      <td>NJ</td>\n",
              "    </tr>\n",
              "    <tr>\n",
              "      <th>31</th>\n",
              "      <td>18.4</td>\n",
              "      <td>3.496</td>\n",
              "      <td>4.968</td>\n",
              "      <td>12.328</td>\n",
              "      <td>18.032</td>\n",
              "      <td>869.85</td>\n",
              "      <td>120.75</td>\n",
              "      <td>NM</td>\n",
              "    </tr>\n",
              "    <tr>\n",
              "      <th>32</th>\n",
              "      <td>12.3</td>\n",
              "      <td>3.936</td>\n",
              "      <td>3.567</td>\n",
              "      <td>10.824</td>\n",
              "      <td>9.840</td>\n",
              "      <td>1234.31</td>\n",
              "      <td>150.01</td>\n",
              "      <td>NY</td>\n",
              "    </tr>\n",
              "    <tr>\n",
              "      <th>33</th>\n",
              "      <td>16.8</td>\n",
              "      <td>6.552</td>\n",
              "      <td>5.208</td>\n",
              "      <td>15.792</td>\n",
              "      <td>13.608</td>\n",
              "      <td>708.24</td>\n",
              "      <td>127.82</td>\n",
              "      <td>NC</td>\n",
              "    </tr>\n",
              "    <tr>\n",
              "      <th>34</th>\n",
              "      <td>23.9</td>\n",
              "      <td>5.497</td>\n",
              "      <td>10.038</td>\n",
              "      <td>23.661</td>\n",
              "      <td>20.554</td>\n",
              "      <td>688.75</td>\n",
              "      <td>109.72</td>\n",
              "      <td>ND</td>\n",
              "    </tr>\n",
              "    <tr>\n",
              "      <th>35</th>\n",
              "      <td>14.1</td>\n",
              "      <td>3.948</td>\n",
              "      <td>4.794</td>\n",
              "      <td>13.959</td>\n",
              "      <td>11.562</td>\n",
              "      <td>697.73</td>\n",
              "      <td>133.52</td>\n",
              "      <td>OH</td>\n",
              "    </tr>\n",
              "    <tr>\n",
              "      <th>36</th>\n",
              "      <td>19.9</td>\n",
              "      <td>6.368</td>\n",
              "      <td>5.771</td>\n",
              "      <td>18.308</td>\n",
              "      <td>18.706</td>\n",
              "      <td>881.51</td>\n",
              "      <td>178.86</td>\n",
              "      <td>OK</td>\n",
              "    </tr>\n",
              "    <tr>\n",
              "      <th>37</th>\n",
              "      <td>12.8</td>\n",
              "      <td>4.224</td>\n",
              "      <td>3.328</td>\n",
              "      <td>8.576</td>\n",
              "      <td>11.520</td>\n",
              "      <td>804.71</td>\n",
              "      <td>104.61</td>\n",
              "      <td>OR</td>\n",
              "    </tr>\n",
              "    <tr>\n",
              "      <th>38</th>\n",
              "      <td>18.2</td>\n",
              "      <td>9.100</td>\n",
              "      <td>5.642</td>\n",
              "      <td>17.472</td>\n",
              "      <td>16.016</td>\n",
              "      <td>905.99</td>\n",
              "      <td>153.86</td>\n",
              "      <td>PA</td>\n",
              "    </tr>\n",
              "    <tr>\n",
              "      <th>39</th>\n",
              "      <td>11.1</td>\n",
              "      <td>3.774</td>\n",
              "      <td>4.218</td>\n",
              "      <td>10.212</td>\n",
              "      <td>8.769</td>\n",
              "      <td>1148.99</td>\n",
              "      <td>148.58</td>\n",
              "      <td>RI</td>\n",
              "    </tr>\n",
              "    <tr>\n",
              "      <th>40</th>\n",
              "      <td>23.9</td>\n",
              "      <td>9.082</td>\n",
              "      <td>9.799</td>\n",
              "      <td>22.944</td>\n",
              "      <td>19.359</td>\n",
              "      <td>858.97</td>\n",
              "      <td>116.29</td>\n",
              "      <td>SC</td>\n",
              "    </tr>\n",
              "    <tr>\n",
              "      <th>41</th>\n",
              "      <td>19.4</td>\n",
              "      <td>6.014</td>\n",
              "      <td>6.402</td>\n",
              "      <td>19.012</td>\n",
              "      <td>16.684</td>\n",
              "      <td>669.31</td>\n",
              "      <td>96.87</td>\n",
              "      <td>SD</td>\n",
              "    </tr>\n",
              "    <tr>\n",
              "      <th>42</th>\n",
              "      <td>19.5</td>\n",
              "      <td>4.095</td>\n",
              "      <td>5.655</td>\n",
              "      <td>15.990</td>\n",
              "      <td>15.795</td>\n",
              "      <td>767.91</td>\n",
              "      <td>155.57</td>\n",
              "      <td>TN</td>\n",
              "    </tr>\n",
              "    <tr>\n",
              "      <th>43</th>\n",
              "      <td>19.4</td>\n",
              "      <td>7.760</td>\n",
              "      <td>7.372</td>\n",
              "      <td>17.654</td>\n",
              "      <td>16.878</td>\n",
              "      <td>1004.75</td>\n",
              "      <td>156.83</td>\n",
              "      <td>TX</td>\n",
              "    </tr>\n",
              "    <tr>\n",
              "      <th>44</th>\n",
              "      <td>11.3</td>\n",
              "      <td>4.859</td>\n",
              "      <td>1.808</td>\n",
              "      <td>9.944</td>\n",
              "      <td>10.848</td>\n",
              "      <td>809.38</td>\n",
              "      <td>109.48</td>\n",
              "      <td>UT</td>\n",
              "    </tr>\n",
              "    <tr>\n",
              "      <th>45</th>\n",
              "      <td>13.6</td>\n",
              "      <td>4.080</td>\n",
              "      <td>4.080</td>\n",
              "      <td>13.056</td>\n",
              "      <td>12.920</td>\n",
              "      <td>716.20</td>\n",
              "      <td>109.61</td>\n",
              "      <td>VT</td>\n",
              "    </tr>\n",
              "    <tr>\n",
              "      <th>46</th>\n",
              "      <td>12.7</td>\n",
              "      <td>2.413</td>\n",
              "      <td>3.429</td>\n",
              "      <td>11.049</td>\n",
              "      <td>11.176</td>\n",
              "      <td>768.95</td>\n",
              "      <td>153.72</td>\n",
              "      <td>VA</td>\n",
              "    </tr>\n",
              "    <tr>\n",
              "      <th>47</th>\n",
              "      <td>10.6</td>\n",
              "      <td>4.452</td>\n",
              "      <td>3.498</td>\n",
              "      <td>8.692</td>\n",
              "      <td>9.116</td>\n",
              "      <td>890.03</td>\n",
              "      <td>111.62</td>\n",
              "      <td>WA</td>\n",
              "    </tr>\n",
              "    <tr>\n",
              "      <th>48</th>\n",
              "      <td>23.8</td>\n",
              "      <td>8.092</td>\n",
              "      <td>6.664</td>\n",
              "      <td>23.086</td>\n",
              "      <td>20.706</td>\n",
              "      <td>992.61</td>\n",
              "      <td>152.56</td>\n",
              "      <td>WV</td>\n",
              "    </tr>\n",
              "    <tr>\n",
              "      <th>49</th>\n",
              "      <td>13.8</td>\n",
              "      <td>4.968</td>\n",
              "      <td>4.554</td>\n",
              "      <td>5.382</td>\n",
              "      <td>11.592</td>\n",
              "      <td>670.31</td>\n",
              "      <td>106.62</td>\n",
              "      <td>WI</td>\n",
              "    </tr>\n",
              "    <tr>\n",
              "      <th>50</th>\n",
              "      <td>17.4</td>\n",
              "      <td>7.308</td>\n",
              "      <td>5.568</td>\n",
              "      <td>14.094</td>\n",
              "      <td>15.660</td>\n",
              "      <td>791.14</td>\n",
              "      <td>122.04</td>\n",
              "      <td>WY</td>\n",
              "    </tr>\n",
              "  </tbody>\n",
              "</table>\n",
              "</div>\n",
              "      <button class=\"colab-df-convert\" onclick=\"convertToInteractive('df-6f5b80a3-6288-4154-bf7b-8105e9cbbd28')\"\n",
              "              title=\"Convert this dataframe to an interactive table.\"\n",
              "              style=\"display:none;\">\n",
              "        \n",
              "  <svg xmlns=\"http://www.w3.org/2000/svg\" height=\"24px\"viewBox=\"0 0 24 24\"\n",
              "       width=\"24px\">\n",
              "    <path d=\"M0 0h24v24H0V0z\" fill=\"none\"/>\n",
              "    <path d=\"M18.56 5.44l.94 2.06.94-2.06 2.06-.94-2.06-.94-.94-2.06-.94 2.06-2.06.94zm-11 1L8.5 8.5l.94-2.06 2.06-.94-2.06-.94L8.5 2.5l-.94 2.06-2.06.94zm10 10l.94 2.06.94-2.06 2.06-.94-2.06-.94-.94-2.06-.94 2.06-2.06.94z\"/><path d=\"M17.41 7.96l-1.37-1.37c-.4-.4-.92-.59-1.43-.59-.52 0-1.04.2-1.43.59L10.3 9.45l-7.72 7.72c-.78.78-.78 2.05 0 2.83L4 21.41c.39.39.9.59 1.41.59.51 0 1.02-.2 1.41-.59l7.78-7.78 2.81-2.81c.8-.78.8-2.07 0-2.86zM5.41 20L4 18.59l7.72-7.72 1.47 1.35L5.41 20z\"/>\n",
              "  </svg>\n",
              "      </button>\n",
              "      \n",
              "  <style>\n",
              "    .colab-df-container {\n",
              "      display:flex;\n",
              "      flex-wrap:wrap;\n",
              "      gap: 12px;\n",
              "    }\n",
              "\n",
              "    .colab-df-convert {\n",
              "      background-color: #E8F0FE;\n",
              "      border: none;\n",
              "      border-radius: 50%;\n",
              "      cursor: pointer;\n",
              "      display: none;\n",
              "      fill: #1967D2;\n",
              "      height: 32px;\n",
              "      padding: 0 0 0 0;\n",
              "      width: 32px;\n",
              "    }\n",
              "\n",
              "    .colab-df-convert:hover {\n",
              "      background-color: #E2EBFA;\n",
              "      box-shadow: 0px 1px 2px rgba(60, 64, 67, 0.3), 0px 1px 3px 1px rgba(60, 64, 67, 0.15);\n",
              "      fill: #174EA6;\n",
              "    }\n",
              "\n",
              "    [theme=dark] .colab-df-convert {\n",
              "      background-color: #3B4455;\n",
              "      fill: #D2E3FC;\n",
              "    }\n",
              "\n",
              "    [theme=dark] .colab-df-convert:hover {\n",
              "      background-color: #434B5C;\n",
              "      box-shadow: 0px 1px 3px 1px rgba(0, 0, 0, 0.15);\n",
              "      filter: drop-shadow(0px 1px 2px rgba(0, 0, 0, 0.3));\n",
              "      fill: #FFFFFF;\n",
              "    }\n",
              "  </style>\n",
              "\n",
              "      <script>\n",
              "        const buttonEl =\n",
              "          document.querySelector('#df-6f5b80a3-6288-4154-bf7b-8105e9cbbd28 button.colab-df-convert');\n",
              "        buttonEl.style.display =\n",
              "          google.colab.kernel.accessAllowed ? 'block' : 'none';\n",
              "\n",
              "        async function convertToInteractive(key) {\n",
              "          const element = document.querySelector('#df-6f5b80a3-6288-4154-bf7b-8105e9cbbd28');\n",
              "          const dataTable =\n",
              "            await google.colab.kernel.invokeFunction('convertToInteractive',\n",
              "                                                     [key], {});\n",
              "          if (!dataTable) return;\n",
              "\n",
              "          const docLinkHtml = 'Like what you see? Visit the ' +\n",
              "            '<a target=\"_blank\" href=https://colab.research.google.com/notebooks/data_table.ipynb>data table notebook</a>'\n",
              "            + ' to learn more about interactive tables.';\n",
              "          element.innerHTML = '';\n",
              "          dataTable['output_type'] = 'display_data';\n",
              "          await google.colab.output.renderOutput(dataTable, element);\n",
              "          const docLink = document.createElement('div');\n",
              "          docLink.innerHTML = docLinkHtml;\n",
              "          element.appendChild(docLink);\n",
              "        }\n",
              "      </script>\n",
              "    </div>\n",
              "  </div>\n",
              "  "
            ]
          },
          "metadata": {},
          "execution_count": 81
        }
      ]
    },
    {
      "cell_type": "code",
      "source": [
        "#simdi comprehension ile yapalim\n",
        "import seaborn as sns\n",
        "df=sns.load_dataset(\"car_crashes\")\n",
        "df.columns"
      ],
      "metadata": {
        "colab": {
          "base_uri": "https://localhost:8080/"
        },
        "id": "RAeuVvZWJNIC",
        "outputId": "e9d0b93f-6777-42d1-ff77-308ab6b231a4"
      },
      "execution_count": null,
      "outputs": [
        {
          "output_type": "execute_result",
          "data": {
            "text/plain": [
              "Index(['total', 'speeding', 'alcohol', 'not_distracted', 'no_previous',\n",
              "       'ins_premium', 'ins_losses', 'abbrev'],\n",
              "      dtype='object')"
            ]
          },
          "metadata": {},
          "execution_count": 82
        }
      ]
    },
    {
      "cell_type": "code",
      "source": [
        "df.columns = [col.upper() for col in df.columns]\n",
        "df.columns #daha kisa ve daha hizli"
      ],
      "metadata": {
        "colab": {
          "base_uri": "https://localhost:8080/"
        },
        "id": "-ew-c3WJJNKd",
        "outputId": "d7c4dcbe-31ed-4ed2-a3d3-fe884102e009"
      },
      "execution_count": null,
      "outputs": [
        {
          "output_type": "execute_result",
          "data": {
            "text/plain": [
              "Index(['TOTAL', 'SPEEDING', 'ALCOHOL', 'NOT_DISTRACTED', 'NO_PREVIOUS',\n",
              "       'INS_PREMIUM', 'INS_LOSSES', 'ABBREV'],\n",
              "      dtype='object')"
            ]
          },
          "metadata": {},
          "execution_count": 84
        }
      ]
    },
    {
      "cell_type": "code",
      "source": [
        "#######################\n",
        "# İsminde \"INS\" olan değişkenlerin başına FLAG diğerlerine NO_FLAG eklemek istiyoruz.\n",
        "#######################\n"
      ],
      "metadata": {
        "id": "4HhJm08qLtbI"
      },
      "execution_count": null,
      "outputs": []
    },
    {
      "cell_type": "code",
      "source": [
        "[col for col in df.columns if \"INS\" in col]"
      ],
      "metadata": {
        "colab": {
          "base_uri": "https://localhost:8080/"
        },
        "id": "whvruHlBLtZH",
        "outputId": "f7d51752-3201-4a79-a7d2-138731200aca"
      },
      "execution_count": null,
      "outputs": [
        {
          "output_type": "execute_result",
          "data": {
            "text/plain": [
              "['INS_PREMIUM', 'INS_LOSSES']"
            ]
          },
          "metadata": {},
          "execution_count": 86
        }
      ]
    },
    {
      "cell_type": "code",
      "source": [
        "[\"FLAG_\" + col for col in df.columns if \"INS\" in col]"
      ],
      "metadata": {
        "colab": {
          "base_uri": "https://localhost:8080/"
        },
        "id": "pn4yhVPmLtWP",
        "outputId": "8c7b6cf5-01b7-4dd0-e000-e2e20ed98329"
      },
      "execution_count": null,
      "outputs": [
        {
          "output_type": "execute_result",
          "data": {
            "text/plain": [
              "['FLAG_INS_PREMIUM', 'FLAG_INS_LOSSES']"
            ]
          },
          "metadata": {},
          "execution_count": 87
        }
      ]
    },
    {
      "cell_type": "code",
      "source": [
        "[\"FLAG_\" + col if \"INS\" in col else \"NO_FLAG\" +col for col in df.columns]"
      ],
      "metadata": {
        "colab": {
          "base_uri": "https://localhost:8080/"
        },
        "id": "zqUWtxLhLtT4",
        "outputId": "56ca9d4f-6860-45e9-ee77-167cd5a8494a"
      },
      "execution_count": null,
      "outputs": [
        {
          "output_type": "execute_result",
          "data": {
            "text/plain": [
              "['NO_FLAGTOTAL',\n",
              " 'NO_FLAGSPEEDING',\n",
              " 'NO_FLAGALCOHOL',\n",
              " 'NO_FLAGNOT_DISTRACTED',\n",
              " 'NO_FLAGNO_PREVIOUS',\n",
              " 'FLAG_INS_PREMIUM',\n",
              " 'FLAG_INS_LOSSES',\n",
              " 'NO_FLAGABBREV']"
            ]
          },
          "metadata": {},
          "execution_count": 88
        }
      ]
    },
    {
      "cell_type": "code",
      "source": [
        "df.columns =[\"FLAG_\" + col if \"INS\" in col else \"NO_FLAG\" +col for col in df.columns]# kalici olarka degistirdik"
      ],
      "metadata": {
        "id": "_FSxAtvbLtRw"
      },
      "execution_count": null,
      "outputs": []
    },
    {
      "cell_type": "code",
      "source": [
        "df.columns"
      ],
      "metadata": {
        "colab": {
          "base_uri": "https://localhost:8080/"
        },
        "id": "yZ385MPkLtPJ",
        "outputId": "6c3323a1-7368-4155-cc4d-f559481bc5d2"
      },
      "execution_count": null,
      "outputs": [
        {
          "output_type": "execute_result",
          "data": {
            "text/plain": [
              "Index(['NO_FLAGTOTAL', 'NO_FLAGSPEEDING', 'NO_FLAGALCOHOL',\n",
              "       'NO_FLAGNOT_DISTRACTED', 'NO_FLAGNO_PREVIOUS', 'FLAG_INS_PREMIUM',\n",
              "       'FLAG_INS_LOSSES', 'NO_FLAGABBREV'],\n",
              "      dtype='object')"
            ]
          },
          "metadata": {},
          "execution_count": 90
        }
      ]
    },
    {
      "cell_type": "code",
      "source": [
        "#######################\n",
        "# Amaç key'i string, value'su aşağıdaki gibi bir liste olan sözlük oluşturmak.\n",
        "# Sadece sayısal değişkenler için yapmak istiyoruz.\n",
        "#######################\n",
        "\n",
        "\n",
        "# Output:\n",
        "# {'total': ['mean', 'min', 'max', 'var'],\n",
        "#  'speeding': ['mean', 'min', 'max', 'var'],\n",
        "#  'alcohol': ['mean', 'min', 'max', 'var'],\n",
        "#  'not_distracted': ['mean', 'min', 'max', 'var'],\n",
        "#  'no_previous': ['mean', 'min', 'max', 'var'],\n",
        "#  'ins_premium': ['mean', 'min', 'max', 'var'],\n",
        "#  'ins_losses': ['mean', 'min', 'max', 'var']}"
      ],
      "metadata": {
        "id": "wfGueVD7LtMP"
      },
      "execution_count": null,
      "outputs": []
    },
    {
      "cell_type": "code",
      "source": [
        "import seaborn as sns\n",
        "df=sns.load_dataset(\"car_crashes\")\n",
        "df.columns"
      ],
      "metadata": {
        "colab": {
          "base_uri": "https://localhost:8080/"
        },
        "id": "nS32N-wMLtIu",
        "outputId": "2f5791ae-6292-4a93-ed78-e3aeb151ba59"
      },
      "execution_count": null,
      "outputs": [
        {
          "output_type": "execute_result",
          "data": {
            "text/plain": [
              "Index(['total', 'speeding', 'alcohol', 'not_distracted', 'no_previous',\n",
              "       'ins_premium', 'ins_losses', 'abbrev'],\n",
              "      dtype='object')"
            ]
          },
          "metadata": {},
          "execution_count": 91
        }
      ]
    },
    {
      "cell_type": "code",
      "source": [
        "#uzun yoldan >>"
      ],
      "metadata": {
        "id": "z0Bj36AQLskT"
      },
      "execution_count": null,
      "outputs": []
    },
    {
      "cell_type": "code",
      "source": [
        "num_cols = [col for col in df.columns if df[col].dtype !=\"O\"]#O >object dataframedeki sayisal degerlere eristik\n",
        "num_cols"
      ],
      "metadata": {
        "colab": {
          "base_uri": "https://localhost:8080/"
        },
        "id": "JO497cGhLsiI",
        "outputId": "d6677eeb-eebe-4502-b654-dc7ffbdc2920"
      },
      "execution_count": null,
      "outputs": [
        {
          "output_type": "execute_result",
          "data": {
            "text/plain": [
              "['total',\n",
              " 'speeding',\n",
              " 'alcohol',\n",
              " 'not_distracted',\n",
              " 'no_previous',\n",
              " 'ins_premium',\n",
              " 'ins_losses']"
            ]
          },
          "metadata": {},
          "execution_count": 95
        }
      ]
    },
    {
      "cell_type": "code",
      "source": [
        "#uzun yol\n",
        "from numpy.core.fromnumeric import mean\n",
        "soz={}\n",
        "\n",
        "agg_list = [\"mean\",\"min\",\"max\",\"sum\"]\n",
        "\n",
        "for col in num_cols:\n",
        "  soz[col]=agg_list\n",
        "soz"
      ],
      "metadata": {
        "colab": {
          "base_uri": "https://localhost:8080/"
        },
        "id": "zokMdEPZLsfV",
        "outputId": "f8e534df-eefd-4c52-aa26-0f5443d5f8c4"
      },
      "execution_count": null,
      "outputs": [
        {
          "output_type": "execute_result",
          "data": {
            "text/plain": [
              "{'total': ['mean', 'min', 'max', 'sum'],\n",
              " 'speeding': ['mean', 'min', 'max', 'sum'],\n",
              " 'alcohol': ['mean', 'min', 'max', 'sum'],\n",
              " 'not_distracted': ['mean', 'min', 'max', 'sum'],\n",
              " 'no_previous': ['mean', 'min', 'max', 'sum'],\n",
              " 'ins_premium': ['mean', 'min', 'max', 'sum'],\n",
              " 'ins_losses': ['mean', 'min', 'max', 'sum']}"
            ]
          },
          "metadata": {},
          "execution_count": 99
        }
      ]
    },
    {
      "cell_type": "code",
      "source": [
        "#kisa yol\n",
        "\n",
        "new_dict= {col: agg_list for col in num_cols}#:)\n",
        "new_dict"
      ],
      "metadata": {
        "colab": {
          "base_uri": "https://localhost:8080/"
        },
        "id": "TdmoekH2QsYH",
        "outputId": "3bd04000-8dec-4a6b-d41e-f0d627bf2edf"
      },
      "execution_count": null,
      "outputs": [
        {
          "output_type": "execute_result",
          "data": {
            "text/plain": [
              "{'total': ['mean', 'min', 'max', 'sum'],\n",
              " 'speeding': ['mean', 'min', 'max', 'sum'],\n",
              " 'alcohol': ['mean', 'min', 'max', 'sum'],\n",
              " 'not_distracted': ['mean', 'min', 'max', 'sum'],\n",
              " 'no_previous': ['mean', 'min', 'max', 'sum'],\n",
              " 'ins_premium': ['mean', 'min', 'max', 'sum'],\n",
              " 'ins_losses': ['mean', 'min', 'max', 'sum']}"
            ]
          },
          "metadata": {},
          "execution_count": 102
        }
      ]
    },
    {
      "cell_type": "code",
      "source": [
        "df[num_cols].agg(new_dict)#agg fonksyionu tanimlanan sözlugu hepsine uygular\n"
      ],
      "metadata": {
        "colab": {
          "base_uri": "https://localhost:8080/",
          "height": 175
        },
        "id": "RVKY5YSSRAHL",
        "outputId": "8cc3694d-279c-401d-a6cf-69a26c389741"
      },
      "execution_count": null,
      "outputs": [
        {
          "output_type": "execute_result",
          "data": {
            "text/plain": [
              "           total    speeding     alcohol  not_distracted  no_previous  \\\n",
              "mean   15.790196    4.998196    4.886784       13.573176    14.004882   \n",
              "min     5.900000    1.792000    1.593000        1.760000     5.900000   \n",
              "max    23.900000    9.450000   10.038000       23.661000    21.280000   \n",
              "sum   805.300000  254.908000  249.226000      692.232000   714.249000   \n",
              "\n",
              "       ins_premium   ins_losses  \n",
              "mean    886.957647   134.493137  \n",
              "min     641.960000    82.750000  \n",
              "max    1301.520000   194.780000  \n",
              "sum   45234.840000  6859.150000  "
            ],
            "text/html": [
              "\n",
              "  <div id=\"df-c8c387ab-c803-4a80-aad8-36387024838e\">\n",
              "    <div class=\"colab-df-container\">\n",
              "      <div>\n",
              "<style scoped>\n",
              "    .dataframe tbody tr th:only-of-type {\n",
              "        vertical-align: middle;\n",
              "    }\n",
              "\n",
              "    .dataframe tbody tr th {\n",
              "        vertical-align: top;\n",
              "    }\n",
              "\n",
              "    .dataframe thead th {\n",
              "        text-align: right;\n",
              "    }\n",
              "</style>\n",
              "<table border=\"1\" class=\"dataframe\">\n",
              "  <thead>\n",
              "    <tr style=\"text-align: right;\">\n",
              "      <th></th>\n",
              "      <th>total</th>\n",
              "      <th>speeding</th>\n",
              "      <th>alcohol</th>\n",
              "      <th>not_distracted</th>\n",
              "      <th>no_previous</th>\n",
              "      <th>ins_premium</th>\n",
              "      <th>ins_losses</th>\n",
              "    </tr>\n",
              "  </thead>\n",
              "  <tbody>\n",
              "    <tr>\n",
              "      <th>mean</th>\n",
              "      <td>15.790196</td>\n",
              "      <td>4.998196</td>\n",
              "      <td>4.886784</td>\n",
              "      <td>13.573176</td>\n",
              "      <td>14.004882</td>\n",
              "      <td>886.957647</td>\n",
              "      <td>134.493137</td>\n",
              "    </tr>\n",
              "    <tr>\n",
              "      <th>min</th>\n",
              "      <td>5.900000</td>\n",
              "      <td>1.792000</td>\n",
              "      <td>1.593000</td>\n",
              "      <td>1.760000</td>\n",
              "      <td>5.900000</td>\n",
              "      <td>641.960000</td>\n",
              "      <td>82.750000</td>\n",
              "    </tr>\n",
              "    <tr>\n",
              "      <th>max</th>\n",
              "      <td>23.900000</td>\n",
              "      <td>9.450000</td>\n",
              "      <td>10.038000</td>\n",
              "      <td>23.661000</td>\n",
              "      <td>21.280000</td>\n",
              "      <td>1301.520000</td>\n",
              "      <td>194.780000</td>\n",
              "    </tr>\n",
              "    <tr>\n",
              "      <th>sum</th>\n",
              "      <td>805.300000</td>\n",
              "      <td>254.908000</td>\n",
              "      <td>249.226000</td>\n",
              "      <td>692.232000</td>\n",
              "      <td>714.249000</td>\n",
              "      <td>45234.840000</td>\n",
              "      <td>6859.150000</td>\n",
              "    </tr>\n",
              "  </tbody>\n",
              "</table>\n",
              "</div>\n",
              "      <button class=\"colab-df-convert\" onclick=\"convertToInteractive('df-c8c387ab-c803-4a80-aad8-36387024838e')\"\n",
              "              title=\"Convert this dataframe to an interactive table.\"\n",
              "              style=\"display:none;\">\n",
              "        \n",
              "  <svg xmlns=\"http://www.w3.org/2000/svg\" height=\"24px\"viewBox=\"0 0 24 24\"\n",
              "       width=\"24px\">\n",
              "    <path d=\"M0 0h24v24H0V0z\" fill=\"none\"/>\n",
              "    <path d=\"M18.56 5.44l.94 2.06.94-2.06 2.06-.94-2.06-.94-.94-2.06-.94 2.06-2.06.94zm-11 1L8.5 8.5l.94-2.06 2.06-.94-2.06-.94L8.5 2.5l-.94 2.06-2.06.94zm10 10l.94 2.06.94-2.06 2.06-.94-2.06-.94-.94-2.06-.94 2.06-2.06.94z\"/><path d=\"M17.41 7.96l-1.37-1.37c-.4-.4-.92-.59-1.43-.59-.52 0-1.04.2-1.43.59L10.3 9.45l-7.72 7.72c-.78.78-.78 2.05 0 2.83L4 21.41c.39.39.9.59 1.41.59.51 0 1.02-.2 1.41-.59l7.78-7.78 2.81-2.81c.8-.78.8-2.07 0-2.86zM5.41 20L4 18.59l7.72-7.72 1.47 1.35L5.41 20z\"/>\n",
              "  </svg>\n",
              "      </button>\n",
              "      \n",
              "  <style>\n",
              "    .colab-df-container {\n",
              "      display:flex;\n",
              "      flex-wrap:wrap;\n",
              "      gap: 12px;\n",
              "    }\n",
              "\n",
              "    .colab-df-convert {\n",
              "      background-color: #E8F0FE;\n",
              "      border: none;\n",
              "      border-radius: 50%;\n",
              "      cursor: pointer;\n",
              "      display: none;\n",
              "      fill: #1967D2;\n",
              "      height: 32px;\n",
              "      padding: 0 0 0 0;\n",
              "      width: 32px;\n",
              "    }\n",
              "\n",
              "    .colab-df-convert:hover {\n",
              "      background-color: #E2EBFA;\n",
              "      box-shadow: 0px 1px 2px rgba(60, 64, 67, 0.3), 0px 1px 3px 1px rgba(60, 64, 67, 0.15);\n",
              "      fill: #174EA6;\n",
              "    }\n",
              "\n",
              "    [theme=dark] .colab-df-convert {\n",
              "      background-color: #3B4455;\n",
              "      fill: #D2E3FC;\n",
              "    }\n",
              "\n",
              "    [theme=dark] .colab-df-convert:hover {\n",
              "      background-color: #434B5C;\n",
              "      box-shadow: 0px 1px 3px 1px rgba(0, 0, 0, 0.15);\n",
              "      filter: drop-shadow(0px 1px 2px rgba(0, 0, 0, 0.3));\n",
              "      fill: #FFFFFF;\n",
              "    }\n",
              "  </style>\n",
              "\n",
              "      <script>\n",
              "        const buttonEl =\n",
              "          document.querySelector('#df-c8c387ab-c803-4a80-aad8-36387024838e button.colab-df-convert');\n",
              "        buttonEl.style.display =\n",
              "          google.colab.kernel.accessAllowed ? 'block' : 'none';\n",
              "\n",
              "        async function convertToInteractive(key) {\n",
              "          const element = document.querySelector('#df-c8c387ab-c803-4a80-aad8-36387024838e');\n",
              "          const dataTable =\n",
              "            await google.colab.kernel.invokeFunction('convertToInteractive',\n",
              "                                                     [key], {});\n",
              "          if (!dataTable) return;\n",
              "\n",
              "          const docLinkHtml = 'Like what you see? Visit the ' +\n",
              "            '<a target=\"_blank\" href=https://colab.research.google.com/notebooks/data_table.ipynb>data table notebook</a>'\n",
              "            + ' to learn more about interactive tables.';\n",
              "          element.innerHTML = '';\n",
              "          dataTable['output_type'] = 'display_data';\n",
              "          await google.colab.output.renderOutput(dataTable, element);\n",
              "          const docLink = document.createElement('div');\n",
              "          docLink.innerHTML = docLinkHtml;\n",
              "          element.appendChild(docLink);\n",
              "        }\n",
              "      </script>\n",
              "    </div>\n",
              "  </div>\n",
              "  "
            ]
          },
          "metadata": {},
          "execution_count": 103
        }
      ]
    },
    {
      "cell_type": "code",
      "source": [],
      "metadata": {
        "id": "f24JWA26RAKN"
      },
      "execution_count": null,
      "outputs": []
    },
    {
      "cell_type": "code",
      "source": [],
      "metadata": {
        "id": "ANDhHeTiRANc"
      },
      "execution_count": null,
      "outputs": []
    },
    {
      "cell_type": "code",
      "source": [],
      "metadata": {
        "id": "kL-i-BjYRAP7"
      },
      "execution_count": null,
      "outputs": []
    },
    {
      "cell_type": "code",
      "source": [],
      "metadata": {
        "id": "rgXgrFPWRAS7"
      },
      "execution_count": null,
      "outputs": []
    },
    {
      "cell_type": "code",
      "source": [],
      "metadata": {
        "id": "YJkwLLXFRAVo"
      },
      "execution_count": null,
      "outputs": []
    },
    {
      "cell_type": "code",
      "source": [],
      "metadata": {
        "id": "z5NBF2GZRAYt"
      },
      "execution_count": null,
      "outputs": []
    },
    {
      "cell_type": "code",
      "source": [],
      "metadata": {
        "id": "5-DQKphJRAbl"
      },
      "execution_count": null,
      "outputs": []
    },
    {
      "cell_type": "code",
      "source": [],
      "metadata": {
        "id": "Cp62_ubzRAe-"
      },
      "execution_count": null,
      "outputs": []
    }
  ]
}