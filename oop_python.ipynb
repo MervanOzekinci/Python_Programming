{
  "nbformat": 4,
  "nbformat_minor": 0,
  "metadata": {
    "colab": {
      "provenance": [],
      "collapsed_sections": []
    },
    "kernelspec": {
      "name": "python3",
      "display_name": "Python 3"
    },
    "language_info": {
      "name": "python"
    }
  },
  "cells": [
    {
      "cell_type": "code",
      "execution_count": 1,
      "metadata": {
        "id": "NaBqhLNoaOHY"
      },
      "outputs": [],
      "source": [
        " class Employee():\n",
        "   employe_name=\"Omar\"\n",
        "   department=\"sales\"\n",
        "   starting_year=2020\n",
        "   salary_in_dolar =5000"
      ]
    },
    {
      "cell_type": "code",
      "source": [
        "my_Object = Employee()\n",
        "\n",
        "print(f\"The Name of Object : > {my_Object.employee_name}\")\n",
        "print(f\"Department of Object : >{my_Object.department} \")\n",
        "print(f\"Starting year : > {my_Object.starting_year}\")\n",
        "print(f\"Salary in Dolar : > {my_Object.salary_in_dolar}\")"
      ],
      "metadata": {
        "colab": {
          "base_uri": "https://localhost:8080/"
        },
        "id": "2RR5y58iacij",
        "outputId": "c57630a7-0798-4a7f-d306-f7e5d3dbd4d3"
      },
      "execution_count": 10,
      "outputs": [
        {
          "output_type": "stream",
          "name": "stdout",
          "text": [
            "The Name of Object : > Omar\n",
            "Department of Object : >sales \n",
            "Starting year : > 2020\n",
            "Salary in Dolar : > 5000\n"
          ]
        }
      ]
    },
    {
      "cell_type": "code",
      "source": [
        "#init >>sinif constructoru farkli objeler üretilebilir bu methodla\n",
        "class Employee():\n",
        "  def __init__(self,employee_name,department, starting_year, salary):\n",
        "    self.employee_name =employee_name\n",
        "    self.department =department\n",
        "    self.starting_year=starting_year\n",
        "    self.salary =salary\n"
      ],
      "metadata": {
        "id": "24NP9bFvadsl"
      },
      "execution_count": 11,
      "outputs": []
    },
    {
      "cell_type": "code",
      "source": [
        "employee_1=Employee(\"Hasan\",\"Sales\",1999,10000)\n",
        "employee_2=Employee(\"Hans\",\"Product Manager\",2010,5000)\n",
        "print(employee_1.employee_name)\n",
        "print(employee_2.employee_name)\n",
        "print(employee_1.department)\n",
        "print(employee_1.starting_year)\n",
        "print(employee_1.salary)"
      ],
      "metadata": {
        "colab": {
          "base_uri": "https://localhost:8080/"
        },
        "id": "9yERInppadpd",
        "outputId": "ce0a347b-d870-4302-ff94-111dbb53f013"
      },
      "execution_count": 16,
      "outputs": [
        {
          "output_type": "stream",
          "name": "stdout",
          "text": [
            "Hasan\n",
            "Hans\n",
            "Sales\n",
            "1999\n",
            "10000\n"
          ]
        }
      ]
    },
    {
      "cell_type": "markdown",
      "source": [
        "##Project"
      ],
      "metadata": {
        "id": "ZuvRTZcsadmK"
      }
    },
    {
      "cell_type": "code",
      "source": [
        "class HealthInsurance:\n",
        "  def __init__(self,company_name,foundation_year,founder_name,company_slogan,num_of_employees,num_of_clients):\n",
        "    self.company_name =company_name\n",
        "    self.foundation_year=foundation_year\n",
        "    self.founder_name=founder_name\n",
        "    self.company_slogan=company_slogan\n",
        "    self.num_of_employees=num_of_employees\n",
        "    self.num_of_clients=num_of_clients\n",
        "\n",
        "  #define the print_report method\n",
        "  def print_report(self):\n",
        "    print(f\"\"\"The company is {self.company_name} was founded in {self.foundation_year}.\n",
        "    The founder of the company is {self.founder_name}.\n",
        "    Company slogan : {self.company_slogan}\n",
        "    Number of employees : {self.num_of_employees}\n",
        "    Number of clients: {self.num_of_clients}\"\"\")\n",
        "  \n",
        "  # define the sup_health_insurance method\n",
        "  def sup_health_insurance(self,age,chronic_disease,income):\n",
        "    #if-else statements to check whether person can get suplemantal insurance or not\n",
        "    if age >=60 and chronic_disease==True and income<6000:\n",
        "      print(\"We are sorry! Yo are not eligible for supplemantal health insurance.\")\n",
        "    if age<60 and income>=6000 or chronic_disease==False:\n",
        "      print(\"Conguraltions! You can get supplemantal health insurance\")\n",
        "\n",
        "  #define the update num_clients method\n",
        "  def update_num_clients(self,new_number):\n",
        "    self.num_of_clients= new_number\n",
        "    print(f\"Number of clients has been changed to {self.num_of_clients}\")\n",
        "\n",
        "\n",
        "\n"
      ],
      "metadata": {
        "id": "eAx9MSZXadje"
      },
      "execution_count": 20,
      "outputs": []
    },
    {
      "cell_type": "markdown",
      "source": [
        "#Create the object\n",
        "#Now that we created our class and initialized its attributes and methods, we can create the object “trading_company1” with the attributes:\n",
        "\n",
        "* Company_name “TraCom”\n",
        "\n",
        "* foundation_year “2005”\n",
        "\n",
        "* founder_name “Chong Wu”\n",
        "\n",
        "* company_slogan “We revolutionize trading.”\n",
        "\n",
        "* sales \"5000\"\n",
        "\n",
        "* expenses \"2000\"\n",
        "\n",
        "* revenue \"3000\""
      ],
      "metadata": {
        "id": "o3dYgDjLadgp"
      }
    },
    {
      "cell_type": "code",
      "source": [
        "# Create the object \"HI_company1\" with it's attributes\n",
        "HI_company1=HealthInsurance(company_name=\"TraCom\",foundation_year=2012,\n",
        "                            founder_name=\"Bob Mayer\",\n",
        "                            company_slogan=\"We care for you\",num_of_employees=3500, num_of_clients=13230)"
      ],
      "metadata": {
        "id": "xEOiu8wTaddI"
      },
      "execution_count": 22,
      "outputs": []
    },
    {
      "cell_type": "markdown",
      "source": [
        "#### Let’s check if the methods work.\n",
        "\n",
        "There is a new customer that wants to register for supplemental health insurance. He is 45 years old, does not have a chronic disease, and has an income of 5000 dollars per month.\n",
        "\n",
        "📌 Use the sup_health_insurance method with this information. \n"
      ],
      "metadata": {
        "id": "KPrNwmVvadZp"
      }
    },
    {
      "cell_type": "code",
      "source": [
        "HI_company1.sup_health_insurance(45,False,5000)"
      ],
      "metadata": {
        "colab": {
          "base_uri": "https://localhost:8080/"
        },
        "id": "7nUq_BSfadWs",
        "outputId": "51ec644a-65c7-47ba-d786-32ea4899ff74"
      },
      "execution_count": 24,
      "outputs": [
        {
          "output_type": "stream",
          "name": "stdout",
          "text": [
            "Conguraltions! You can get supplemantal health insurance\n"
          ]
        }
      ]
    },
    {
      "cell_type": "markdown",
      "source": [
        "#Because the number of clients has incerased,you should use the updata_num_clinets method:\n",
        "* The new_number willl be 13231"
      ],
      "metadata": {
        "id": "T4xjzAUZadTp"
      }
    },
    {
      "cell_type": "code",
      "source": [
        "HI_company1.update_num_clients(13231)"
      ],
      "metadata": {
        "colab": {
          "base_uri": "https://localhost:8080/"
        },
        "id": "KzXA3EssadNk",
        "outputId": "c38b3c00-74ea-4e51-dc02-050ea4ef3f83"
      },
      "execution_count": 27,
      "outputs": [
        {
          "output_type": "stream",
          "name": "stdout",
          "text": [
            "Number of clients has been changed to 13231\n"
          ]
        }
      ]
    },
    {
      "cell_type": "markdown",
      "source": [
        "## To see the output of the latest update and check hether it worked or not, call the print_report method"
      ],
      "metadata": {
        "id": "ivvo4qt7adKc"
      }
    },
    {
      "cell_type": "code",
      "source": [
        "#call the print_report method for Hi_company\n",
        "HI_company1.print_report()"
      ],
      "metadata": {
        "colab": {
          "base_uri": "https://localhost:8080/"
        },
        "id": "25tFDFshmcK3",
        "outputId": "03727691-30b2-4065-d85b-4a0c79557ccb"
      },
      "execution_count": 28,
      "outputs": [
        {
          "output_type": "stream",
          "name": "stdout",
          "text": [
            "The company is TraCom was founded in 2012.\n",
            "    The founder of the company is Bob Mayer.\n",
            "    Company slogan : We care for you\n",
            "    Number of employees : 3500\n",
            "    Number of clients: 13231\n"
          ]
        }
      ]
    },
    {
      "cell_type": "code",
      "source": [
        "#define the \"logistics\" class\n",
        "class Logistics:\n",
        "  def __init__(self,company_name,foundation_year,founder_name,company_slogan,inventory_space):\n",
        "    self.company_name=company_name\n",
        "    self.foundation_year=foundation_year\n",
        "    self.founder_name =founder_name\n",
        "    self.company_slogan=company_slogan\n",
        "    self.inventory_space=inventory_space\n",
        "  def print_report(self):\n",
        "    print(f\"\"\"The company is {self.company_name} was founded in {self.foundation_year}.\n",
        "    The founder of the company is {self.founder_name}.\n",
        "    Company slogan : {self.company_slogan}\n",
        "    Inventory space : {self.inventory_space}\n",
        "    \"\"\")\n",
        "  def update_inventory_space(self,new_storage_space):\n",
        "    self.inventory_space=new_storage_space\n",
        "    print(f\"Inventory space has been changed to {self.inventory_space}\")"
      ],
      "metadata": {
        "id": "mWFB8u3Fmb_4"
      },
      "execution_count": 31,
      "outputs": []
    },
    {
      "cell_type": "code",
      "source": [
        "#Create the object \"logistic_company1\" with it's attributes\n",
        "\n",
        "logistic_company1 =Logistics(\"LogCom\",1990,\"Laura McCartey\",\"There is no place we cannot reach\",2500)"
      ],
      "metadata": {
        "id": "48kdCLQ1owBi"
      },
      "execution_count": 32,
      "outputs": []
    },
    {
      "cell_type": "code",
      "source": [
        "# update the inventory space\n",
        "logistic_company1.update_inventory_space(3000)"
      ],
      "metadata": {
        "colab": {
          "base_uri": "https://localhost:8080/"
        },
        "id": "skJnURD_ov-a",
        "outputId": "0368274c-6907-4211-c530-25551b4bd9e8"
      },
      "execution_count": 33,
      "outputs": [
        {
          "output_type": "stream",
          "name": "stdout",
          "text": [
            "Inventory space has been changed to 3000\n"
          ]
        }
      ]
    },
    {
      "cell_type": "code",
      "source": [
        "#call the print_report_method for logistic_compayn1\n",
        "logistic_company1.print_report()"
      ],
      "metadata": {
        "colab": {
          "base_uri": "https://localhost:8080/"
        },
        "id": "ocx9Kquzov7-",
        "outputId": "5ef0b651-93b2-4cdf-9a73-87c025746af4"
      },
      "execution_count": 34,
      "outputs": [
        {
          "output_type": "stream",
          "name": "stdout",
          "text": [
            "The company is LogCom was founded in 1990.\n",
            "    The founder of the company is Laura McCartey.\n",
            "    Company slogan : There is no place we cannot reach\n",
            "    Inventory space : 3000\n",
            "    \n"
          ]
        }
      ]
    }
  ]
}